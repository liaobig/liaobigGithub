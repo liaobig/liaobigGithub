{
 "cells": [
  {
   "cell_type": "code",
   "execution_count": 2,
   "metadata": {},
   "outputs": [
    {
     "name": "stdout",
     "output_type": "stream",
     "text": [
      "m...\n",
      "w...\n",
      "w...\n",
      "m...\n",
      "m...\n"
     ]
    }
   ],
   "source": [
    "#面向对象\n",
    "#封装\n",
    "#构造 __init__(self,)\n",
    "#__变量名\n",
    "#isinstance(变量名,变量类型)判断变量是否是某个变量类型\n",
    "#doc string用三引号:\"\"\"abc\"\"\",说明类或者方法\n",
    "#函数名 (name:str=\"abc\"),提示name参数的传入值最好为str，默认值为\"abc\"\n",
    "#多态\n",
    "class Cat:\n",
    "    def talk(self):\n",
    "        print(\"m...\")\n",
    "class Dog:\n",
    "    def talk(self):\n",
    "        print(\"w...\")\n",
    "pets =[Cat(),Dog(),Dog(),Cat(),Cat()]\n",
    "for item in pets:\n",
    "    item.talk()"
   ]
  },
  {
   "cell_type": "code",
   "execution_count": null,
   "metadata": {},
   "outputs": [],
   "source": [
    "#继承\n",
    "#重写父类方法\n",
    "#调用父类的方法：父类类名.父类方法()\n",
    "#子类的构造函数调用父类的构造函数,比如：\n",
    "#子类(父类):\n",
    "#    def __init__(self,name):\n",
    "#        父类.__init__(self,name)\n",
    "#issubclass(a,b)判断a是否为b的子类\n",
    "#子类继承多个父类！注意使用\n",
    "#可以在类的构造函数调用想要有的类里的函数，从而方便此类使用"
   ]
  }
 ],
 "metadata": {
  "kernelspec": {
   "display_name": "Python 3",
   "language": "python",
   "name": "python3"
  },
  "language_info": {
   "codemirror_mode": {
    "name": "ipython",
    "version": 3
   },
   "file_extension": ".py",
   "mimetype": "text/x-python",
   "name": "python",
   "nbconvert_exporter": "python",
   "pygments_lexer": "ipython3",
   "version": "3.7.3"
  }
 },
 "nbformat": 4,
 "nbformat_minor": 2
}
