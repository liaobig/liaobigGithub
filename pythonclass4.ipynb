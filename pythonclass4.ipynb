{
 "cells": [
  {
   "cell_type": "code",
   "execution_count": 1,
   "metadata": {},
   "outputs": [
    {
     "name": "stdout",
     "output_type": "stream",
     "text": [
      "9=3+3\n"
     ]
    }
   ],
   "source": [
    "x=3\n",
    "print(\"{1}={0}+{0}\".format(x,x*x))"
   ]
  },
  {
   "cell_type": "code",
   "execution_count": 2,
   "metadata": {},
   "outputs": [
    {
     "name": "stdout",
     "output_type": "stream",
     "text": [
      "yg,51\n"
     ]
    }
   ],
   "source": [
    "name=\"yg\"\n",
    "age=51\n",
    "print(f\"{name},{age}\")\n",
    "#注意f"
   ]
  },
  {
   "cell_type": "code",
   "execution_count": 5,
   "metadata": {},
   "outputs": [
    {
     "name": "stdout",
     "output_type": "stream",
     "text": [
      "yg,51\n"
     ]
    }
   ],
   "source": [
    "print(\"{name},{age}\".format(name=\"yg\",age=51))"
   ]
  },
  {
   "cell_type": "code",
   "execution_count": 10,
   "metadata": {},
   "outputs": [
    {
     "name": "stdout",
     "output_type": "stream",
     "text": [
      "xxxxxxxxxxxxxxxxxxxxxxxxxxxxxxxxxxxxxxxx\n",
      "                   a                    \n",
      "*                  a                   *\n"
     ]
    }
   ],
   "source": [
    "print(\"x\"*40)\n",
    "print(\"a\".center(40))\n",
    "print(\"a\".center(38).center(40,'*'))"
   ]
  },
  {
   "cell_type": "code",
   "execution_count": 19,
   "metadata": {},
   "outputs": [
    {
     "data": {
      "text/plain": [
       "22"
      ]
     },
     "execution_count": 19,
     "metadata": {},
     "output_type": "execute_result"
    }
   ],
   "source": [
    "file_path=r\"8888\\notebooks\\Desktop\\Untitled1.ipynb\"\n",
    "file_path.rfind(\"\\\\\")\n",
    "file_path[file_path.rfind('\\\\')+1:file_path.find(\".\")]"
   ]
  },
  {
   "cell_type": "code",
   "execution_count": 30,
   "metadata": {},
   "outputs": [
    {
     "name": "stdout",
     "output_type": "stream",
     "text": [
      "{'a': None, 'b': None}\n",
      "{'a': 0, 'b': 0}\n",
      "{'a': 0, 'e': 0, 'i': 0, 'o': 0, 'u': 0}\n",
      "{'a': 1, 'e': 2, 'i': 2, 'o': 1, 'u': 0}\n"
     ]
    },
    {
     "data": {
      "text/plain": [
       "1"
      ]
     },
     "execution_count": 30,
     "metadata": {},
     "output_type": "execute_result"
    }
   ],
   "source": [
    "s={}.fromkeys([\"a\",\"b\"])\n",
    "print(s)\n",
    "s={}.fromkeys([\"a\",\"b\"],0)\n",
    "print(s)\n",
    "\n",
    "count=dict.fromkeys(\"aeiou\",0)\n",
    "print(count)\n",
    "str=\"hello, this is a test\"\n",
    "for ch in str:\n",
    "    if ch in \"aeiou\":\n",
    "        count[ch] += 1\n",
    "print(count)\n",
    "\n",
    "count.get(\"a\")"
   ]
  },
  {
   "cell_type": "code",
   "execution_count": 35,
   "metadata": {},
   "outputs": [
    {
     "name": "stdout",
     "output_type": "stream",
     "text": [
      "a\n",
      "12\n",
      "a12\n"
     ]
    }
   ],
   "source": [
    "student=dict.fromkeys([\"name\",\"score\"])\n",
    "student[\"name\"]=input()\n",
    "student[\"score\"]=input()\n",
    "print(student[\"name\"]+student[\"score\"])"
   ]
  },
  {
   "cell_type": "code",
   "execution_count": 43,
   "metadata": {},
   "outputs": [
    {
     "name": "stdout",
     "output_type": "stream",
     "text": [
      "['muzhao', 'muqian', 'musun', 'sanzhao', 'sanqian', 'sansun', 'sizhao', 'siqian', 'sisun']\n",
      "80 9 15 57 4 12 16 94 34 88 49 40 68 96 8 89 100 14 75 59 52 18 77 51 71 42 17 69 90 100 93 95 89 63 79 83 58 55 59 92 70 54 97 61 6 42 79 75 26 43 74 70 48 25 93 66 15 86 52 72 29 70 89 69 88 69 35 69 46 12 55 33 34 80 63 50 30 58 71 0 39 22 58 53 60 23 51 89 45 36 54 85 37 68 92 78 29 71 27 19 \n",
      "60 51 83 59 90 45 52 67 96 97 84 43 50 61 100 100 88 67 44 34 79 60 74 83 83 100 100 69 78 85 89 77 61 82 52 89 100 91 82 73 100 100 89 78 97 70 44 97 79 71 79 32 80 54 91 59 81 36 64 43 86 70 67 85 74 68 100 68 99 100 51 95 74 71 93 76 93 100 100 61 70 45 63 92 74 52 76 83 69 38 49 100 100 75 69 68 100 66 82 79 "
     ]
    }
   ],
   "source": [
    "first_ns={\"san\",\"si\",\"mu\"}\n",
    "last_ns={\"zhao\",\"qian\",\"sun\"}\n",
    "names=list()\n",
    "\n",
    "for first_n in first_ns:\n",
    "    for last_n in last_ns:\n",
    "        names.append(first_n+last_n)\n",
    "print(names)\n",
    "\n",
    "import random\n",
    "random.choice(names)\n",
    "\n",
    "for i in range(0,100):\n",
    "    score=random.randint(0,100)\n",
    "    print(score,end=\" \")\n",
    "print()\n",
    "import math\n",
    "for i in range(0,100):\n",
    "    score=math.ceil(random.gauss(75,20))\n",
    "    if score>100:\n",
    "        score=100\n",
    "    if score<0:\n",
    "        score=0\n",
    "    print(score,end=\" \")"
   ]
  },
  {
   "cell_type": "code",
   "execution_count": 80,
   "metadata": {},
   "outputs": [
    {
     "name": "stdout",
     "output_type": "stream",
     "text": [
      "{'muzhao': {'wuli': 100, 'math': 60, 'python': 84}, 'muqian': {'wuli': 78, 'math': 56, 'python': 85}, 'musun': {'wuli': 79, 'math': 64, 'python': 42}, 'sanzhao': {'wuli': 75, 'math': 95, 'python': 87}, 'sanqian': {'wuli': 44, 'math': 59, 'python': 87}, 'sansun': {'wuli': 83, 'math': 76, 'python': 89}, 'sizhao': {'wuli': 94, 'math': 79, 'python': 50}, 'siqian': {'wuli': 100, 'math': 45, 'python': 100}, 'sisun': {'wuli': 80, 'math': 71, 'python': 91}}\n",
      "\n",
      "{'muqian': {'math': 56, 'python': 85, 'wuli': 78},\n",
      " 'musun': {'math': 64, 'python': 42, 'wuli': 79},\n",
      " 'muzhao': {'math': 60, 'python': 84, 'wuli': 100},\n",
      " 'sanqian': {'math': 59, 'python': 87, 'wuli': 44},\n",
      " 'sansun': {'math': 76, 'python': 89, 'wuli': 83},\n",
      " 'sanzhao': {'math': 95, 'python': 87, 'wuli': 75},\n",
      " 'siqian': {'math': 45, 'python': 100, 'wuli': 100},\n",
      " 'sisun': {'math': 71, 'python': 91, 'wuli': 80},\n",
      " 'sizhao': {'math': 79, 'python': 50, 'wuli': 94}}\n"
     ]
    }
   ],
   "source": [
    "def c_r_score():\n",
    "    score=math.ceil(random.gauss(75,20))\n",
    "    if score>100:\n",
    "        score=100\n",
    "    if score<0:\n",
    "        score=0\n",
    "    return score\n",
    "\n",
    "score_db={}\n",
    "score_t={}.fromkeys(['wuli',\"math\",\"python\"])\n",
    "for name in names:\n",
    "    scores=score_t.copy()\n",
    "    \n",
    "    scores[\"wuli\"]=c_r_score()\n",
    "    scores[\"math\"]=c_r_score()\n",
    "    scores[\"python\"]=c_r_score()\n",
    "    \n",
    "    score_db[name]=scores\n",
    "    \n",
    "print(score_db)\n",
    "print()\n",
    "import pprint\n",
    "pprint.pprint(score_db)\n",
    "    "
   ]
  },
  {
   "cell_type": "code",
   "execution_count": 55,
   "metadata": {},
   "outputs": [
    {
     "name": "stdout",
     "output_type": "stream",
     "text": [
      "muzhao\n",
      "wuli: 60\n",
      "math: 100\n",
      "python: 55\n",
      "total: 215\n"
     ]
    }
   ],
   "source": [
    "name=input()\n",
    "if name in score_db:\n",
    "    print(\"wuli:\",score_db[name][\"wuli\"])\n",
    "    print(\"math:\",score_db[name][\"math\"])\n",
    "    print(\"python:\",score_db[name][\"python\"])\n",
    "    print(\"total:\",score_db[name][\"python\"]+score_db[name][\"math\"]+score_db[name][\"wuli\"])\n",
    "else:\n",
    "    print(\"not\")"
   ]
  },
  {
   "cell_type": "code",
   "execution_count": 61,
   "metadata": {},
   "outputs": [
    {
     "name": "stdout",
     "output_type": "stream",
     "text": [
      "name\t\twuli\tmath\tpython\ttotal\t\n",
      "     muzhao    \t60\t100\t55\t215\t\n",
      "     muqian    \t50\t90\t53\t193\t\n",
      "     musun     \t98\t95\t73\t266\t\n",
      "    sanzhao    \t65\t55\t38\t158\t\n",
      "    sanqian    \t81\t97\t100\t278\t\n",
      "     sansun    \t87\t100\t100\t287\t\n",
      "     sizhao    \t69\t75\t62\t206\t\n",
      "     siqian    \t100\t63\t93\t256\t\n",
      "     sisun     \t85\t72\t75\t232\t\n"
     ]
    }
   ],
   "source": [
    "print(\"name\\t\\twuli\\tmath\\tpython\\ttotal\\t\")\n",
    "for name in score_db.keys():\n",
    "    print(name.center(15),end=\"\\t\")\n",
    "    print(score_db[name][\"wuli\"],end=\"\\t\")\n",
    "    print(score_db[name][\"math\"],end=\"\\t\")\n",
    "    print(score_db[name][\"python\"],end=\"\\t\")\n",
    "    print(score_db[name][\"python\"]+score_db[name][\"math\"]+score_db[name][\"wuli\"],end=\"\\t\")\n",
    "    print()\n",
    "    "
   ]
  },
  {
   "cell_type": "code",
   "execution_count": 82,
   "metadata": {},
   "outputs": [
    {
     "name": "stdout",
     "output_type": "stream",
     "text": [
      "name\t\twuli\tmath\tpython\ttotal\t\n",
      "     musun     \t79\t64\t42\t185\t\n",
      "    sanqian    \t44\t59\t87\t190\t\n",
      "     muqian    \t78\t56\t85\t219\t\n",
      "     sizhao    \t94\t79\t50\t223\t\n",
      "     sisun     \t80\t71\t91\t242\t\n",
      "     muzhao    \t100\t60\t84\t244\t\n",
      "     siqian    \t100\t45\t100\t245\t\n",
      "     sansun    \t83\t76\t89\t248\t\n",
      "    sanzhao    \t75\t95\t87\t257\t\n"
     ]
    }
   ],
   "source": [
    "def by_total(items):\n",
    "    return items[1][\"wuli\"]+items[1][\"math\"]+items[1][\"python\"]\n",
    "    \n",
    "items=score_db.items()\n",
    "s_db=sorted(items,key=by_total)\n",
    "#根据函数定义排序\n",
    "#print(score_db)\n",
    "\n",
    "print(\"name\\t\\twuli\\tmath\\tpython\\ttotal\\t\")\n",
    "for item in s_db:\n",
    "    print(item[0].center(15),end=\"\\t\")\n",
    "    print(item[1][\"wuli\"],end=\"\\t\")\n",
    "    print(item[1][\"math\"],end=\"\\t\")\n",
    "    print(item[1][\"python\"],end=\"\\t\")\n",
    "    print(item[1][\"python\"]+item[1][\"math\"]+item[1][\"wuli\"],end=\"\\t\")\n",
    "    print()"
   ]
  },
  {
   "cell_type": "code",
   "execution_count": null,
   "metadata": {},
   "outputs": [],
   "source": []
  }
 ],
 "metadata": {
  "kernelspec": {
   "display_name": "Python 3",
   "language": "python",
   "name": "python3"
  },
  "language_info": {
   "codemirror_mode": {
    "name": "ipython",
    "version": 3
   },
   "file_extension": ".py",
   "mimetype": "text/x-python",
   "name": "python",
   "nbconvert_exporter": "python",
   "pygments_lexer": "ipython3",
   "version": "3.7.3"
  }
 },
 "nbformat": 4,
 "nbformat_minor": 2
}
