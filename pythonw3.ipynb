{
 "cells": [
  {
   "cell_type": "code",
   "execution_count": 1,
   "metadata": {},
   "outputs": [
    {
     "name": "stdout",
     "output_type": "stream",
     "text": [
      "[1, 2, 3, 4, 5, 6, 7, 8, 9]\n",
      "[1, 2, 3, 4, 5, 6, 7, 8, 9]\n",
      "[2, 3, 4, 5, 6, 7, 8, 9]\n",
      "[1, 2, 3, 4, 5, 6, 7, 8, 9]\n"
     ]
    }
   ],
   "source": [
    "a=list(range(1,10))\n",
    "b=a.copy()\n",
    "print(a)\n",
    "print(b)\n",
    "del a[0]\n",
    "print(a)\n",
    "print(b)"
   ]
  },
  {
   "cell_type": "code",
   "execution_count": 2,
   "metadata": {},
   "outputs": [],
   "source": [
    "b.append(10)"
   ]
  },
  {
   "cell_type": "code",
   "execution_count": 3,
   "metadata": {},
   "outputs": [
    {
     "data": {
      "text/plain": [
       "[1, 2, 3, 4, 5, 6, 7, 8, 9, 10]"
      ]
     },
     "execution_count": 3,
     "metadata": {},
     "output_type": "execute_result"
    }
   ],
   "source": [
    "b"
   ]
  },
  {
   "cell_type": "code",
   "execution_count": 4,
   "metadata": {},
   "outputs": [
    {
     "data": {
      "text/plain": [
       "2"
      ]
     },
     "execution_count": 4,
     "metadata": {},
     "output_type": "execute_result"
    }
   ],
   "source": [
    "a[0]"
   ]
  },
  {
   "cell_type": "code",
   "execution_count": 12,
   "metadata": {},
   "outputs": [
    {
     "name": "stdout",
     "output_type": "stream",
     "text": [
      "[1, 2, 3, [4, 5]]\n",
      "[1, 2, 3, [4, 5]]\n",
      "[1, 2, 3, [5, 5]]\n",
      "[1, 2, 3, [4, 5]]\n"
     ]
    }
   ],
   "source": [
    "#deep copy\n",
    "from copy import deepcopy\n",
    "a=[1,2,3,[4,5]]\n",
    "b=deepcopy(a)\n",
    "print(a)\n",
    "print(b)\n",
    "a[3][0]=5\n",
    "print(a)\n",
    "print(b)"
   ]
  },
  {
   "cell_type": "code",
   "execution_count": null,
   "metadata": {},
   "outputs": [],
   "source": [
    "#非deepcopy，第二维的列表会跟随改动"
   ]
  },
  {
   "cell_type": "code",
   "execution_count": 13,
   "metadata": {},
   "outputs": [
    {
     "name": "stdout",
     "output_type": "stream",
     "text": [
      "[1, 2, 3, [4, 5]]\n",
      "[1, 2, 3, [4, 5]]\n",
      "[1, 2, 3, [5, 5]]\n",
      "[1, 2, 3, [5, 5]]\n"
     ]
    }
   ],
   "source": [
    "a=[1,2,3,[4,5]]\n",
    "b=a.copy()\n",
    "print(a)\n",
    "print(b)\n",
    "a[3][0]=5\n",
    "print(a)\n",
    "print(b)"
   ]
  },
  {
   "cell_type": "code",
   "execution_count": 14,
   "metadata": {},
   "outputs": [
    {
     "data": {
      "text/plain": [
       "[1, 2, 3, [5, 5]]"
      ]
     },
     "execution_count": 14,
     "metadata": {},
     "output_type": "execute_result"
    }
   ],
   "source": [
    "b"
   ]
  },
  {
   "cell_type": "code",
   "execution_count": 24,
   "metadata": {},
   "outputs": [
    {
     "data": {
      "text/plain": [
       "2"
      ]
     },
     "execution_count": 24,
     "metadata": {},
     "output_type": "execute_result"
    }
   ],
   "source": [
    "b.index(3)"
   ]
  },
  {
   "cell_type": "markdown",
   "metadata": {},
   "source": []
  },
  {
   "cell_type": "code",
   "execution_count": 19,
   "metadata": {},
   "outputs": [
    {
     "name": "stdout",
     "output_type": "stream",
     "text": [
      "not in!\n"
     ]
    }
   ],
   "source": [
    "try:\n",
    "    b.index(5)\n",
    "except ValueError:\n",
    "    print(\"not in!\")"
   ]
  },
  {
   "cell_type": "code",
   "execution_count": 21,
   "metadata": {},
   "outputs": [
    {
     "data": {
      "text/plain": [
       "[5, 5]"
      ]
     },
     "execution_count": 21,
     "metadata": {},
     "output_type": "execute_result"
    }
   ],
   "source": [
    "b.pop()"
   ]
  },
  {
   "cell_type": "code",
   "execution_count": 22,
   "metadata": {},
   "outputs": [],
   "source": [
    "b.append(4)"
   ]
  },
  {
   "cell_type": "code",
   "execution_count": 23,
   "metadata": {},
   "outputs": [
    {
     "data": {
      "text/plain": [
       "[1, 2, 3, 4]"
      ]
     },
     "execution_count": 23,
     "metadata": {},
     "output_type": "execute_result"
    }
   ],
   "source": [
    "b"
   ]
  },
  {
   "cell_type": "code",
   "execution_count": 32,
   "metadata": {},
   "outputs": [
    {
     "name": "stdout",
     "output_type": "stream",
     "text": [
      "plz:0[p]\n",
      "m\n"
     ]
    }
   ],
   "source": [
    "abc=input(\"plz:\")\n",
    "abc_list=list()\n",
    "l_q=[\"[\",\"{\",\"(\"]\n",
    "r_q=[\"]\",\"}\",\")\"]\n",
    "for ch in abc:\n",
    "    if ch in l_q:\n",
    "        abc_list.append(ch)\n",
    "    elif ch in r_q:\n",
    "        if abc_list ==[]:\n",
    "            print(not m)\n",
    "        else:\n",
    "            l_ch=abc_list.pop()\n",
    "            if(l_q.index(l_ch)!=r_q.index(ch)):\n",
    "                print(\"not m\")\n",
    "                break\n",
    "if abc_list != []:\n",
    "    print(\"not m\")\n",
    "else:\n",
    "    print(\"m\")"
   ]
  },
  {
   "cell_type": "code",
   "execution_count": 38,
   "metadata": {},
   "outputs": [
    {
     "name": "stdout",
     "output_type": "stream",
     "text": [
      "[4, 3, 2, 1]\n",
      "[1, 2, 3, 4]\n"
     ]
    }
   ],
   "source": [
    "print(b)\n",
    "b.reverse()\n",
    "print(b)"
   ]
  },
  {
   "cell_type": "code",
   "execution_count": 62,
   "metadata": {},
   "outputs": [
    {
     "name": "stdout",
     "output_type": "stream",
     "text": [
      "3\n"
     ]
    }
   ],
   "source": [
    "#import random\n",
    "#random.randint(1,6)\n",
    "print(sum([1,2]))"
   ]
  },
  {
   "cell_type": "code",
   "execution_count": 74,
   "metadata": {},
   "outputs": [
    {
     "name": "stdout",
     "output_type": "stream",
     "text": [
      "2\n",
      "2\n",
      "33\n"
     ]
    }
   ],
   "source": [
    "mouth=int(input())\n",
    "day=int(input())\n",
    "days_in_mouth=[31,28,31,30,31,30,31,31,30,31,30,31]\n",
    "count=0\n",
    "i=0\n",
    "if mouth>1:\n",
    "    while i<mouth-1:\n",
    "        count=days_in_mouth[i]+count\n",
    "        i+=1\n",
    "    count +=day\n",
    "else:\n",
    "    count=day\n",
    "\n",
    "print(count)"
   ]
  },
  {
   "cell_type": "code",
   "execution_count": 75,
   "metadata": {},
   "outputs": [
    {
     "name": "stdout",
     "output_type": "stream",
     "text": [
      "80\n",
      "80 : B\n"
     ]
    }
   ],
   "source": [
    "grades=[\"D\"]*60+[\"C\"]*15+[\"B\"]*15+[\"A\"]*11\n",
    "score=int(input())\n",
    "print(score,\":\",grades[score])"
   ]
  },
  {
   "cell_type": "code",
   "execution_count": 99,
   "metadata": {},
   "outputs": [
    {
     "name": "stdout",
     "output_type": "stream",
     "text": [
      "260 0.004333333333333333\n"
     ]
    }
   ],
   "source": [
    "import random\n",
    "count=[0]*6\n",
    "last_t=[3,3,3]\n",
    "six=0\n",
    "ci=60000\n",
    "for i in range(ci):\n",
    "    last_t.append(random.randint(1,6))\n",
    "    last_t.pop(0)\n",
    "    if last_t==[6,6,6]:\n",
    "        six+=1\n",
    "print(six,six/ci)\n",
    "#print(count)\n",
    "#print((max(count)-min(count))*6/sum(count))"
   ]
  },
  {
   "cell_type": "code",
   "execution_count": 101,
   "metadata": {},
   "outputs": [
    {
     "name": "stdout",
     "output_type": "stream",
     "text": [
      "[298, 301, 274, 258, 307, 271]\n"
     ]
    }
   ],
   "source": [
    "import random\n",
    "count=[0]*6\n",
    "last_t=[0,0,0]\n",
    "six=0\n",
    "ci=60000\n",
    "for i in range(ci):\n",
    "    last_t.append(random.randint(1,6))\n",
    "    last_t.pop(0)\n",
    "    if (last_t[0]==last_t[1]==last_t[2]):\n",
    "        count[last_t[2]-1]+=1\n",
    "print(count)\n",
    "#print(six,six/ci)\n",
    "#print(count)\n",
    "#print((max(count)-min(count))*6/sum(count))"
   ]
  },
  {
   "cell_type": "code",
   "execution_count": null,
   "metadata": {},
   "outputs": [],
   "source": []
  }
 ],
 "metadata": {
  "kernelspec": {
   "display_name": "Python 3",
   "language": "python",
   "name": "python3"
  },
  "language_info": {
   "codemirror_mode": {
    "name": "ipython",
    "version": 3
   },
   "file_extension": ".py",
   "mimetype": "text/x-python",
   "name": "python",
   "nbconvert_exporter": "python",
   "pygments_lexer": "ipython3",
   "version": "3.7.3"
  }
 },
 "nbformat": 4,
 "nbformat_minor": 2
}
