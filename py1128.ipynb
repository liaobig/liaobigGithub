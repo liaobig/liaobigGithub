{
 "cells": [
  {
   "cell_type": "code",
   "execution_count": 2,
   "metadata": {},
   "outputs": [
    {
     "data": {
      "text/plain": [
       "'\\n@property\\n@height'"
      ]
     },
     "execution_count": 2,
     "metadata": {},
     "output_type": "execute_result"
    }
   ],
   "source": [
    "# 修饰器\n",
    "'''\n",
    "@property\n",
    "@height'''"
   ]
  },
  {
   "cell_type": "code",
   "execution_count": null,
   "metadata": {},
   "outputs": [],
   "source": [
    "class Rectangle:\n",
    "    def __init__(self):\n",
    "        self.width=0\n",
    "        self.height=0\n",
    "        \n",
    "        \n",
    "    def __setattr__(self,name,value):\n",
    "        if name == 'size':\n",
    "            if value[0] <0 or value[1]<0 : raise ValueError()\n",
    "            self.width,self.height=value\n",
    "            \n",
    "        elif name == 'width':\n",
    "            if value < 0 : raise ValueError()\n",
    "            self.width = value\n",
    "            \n",
    "        elif name == 'height':\n",
    "            if value < 0 : raise ValueError()\n",
    "            self.height = value\n",
    "            \n",
    "        else :\n",
    "            self.__dict__[name]=value\n",
    "            \n",
    "    def __getattr__(self,name):\n",
    "        if name == 'size':\n",
    "            return self.width, self.height\n",
    "        \n",
    "        else :\n",
    "            return self.__dict__[name]\n",
    "        \n",
    "\n",
    "rect= Rectangle()\n",
    "rect.size= (3,4)\n",
    "print(rect.size)"
   ]
  },
  {
   "cell_type": "code",
   "execution_count": null,
   "metadata": {},
   "outputs": [],
   "source": [
    "# 尝试库的概念\n",
    "import math\n",
    "\n",
    "math.sin(0)"
   ]
  },
  {
   "cell_type": "code",
   "execution_count": null,
   "metadata": {},
   "outputs": [],
   "source": [
    "# 首先在anaconda文件夹下面创建了名为hellohui.py 格式的文件，然后import到这里，就可以直接输出库里面的内容\n",
    "import hellohui"
   ]
  },
  {
   "cell_type": "code",
   "execution_count": null,
   "metadata": {},
   "outputs": [],
   "source": [
    "import hellohui\n",
    "hello()"
   ]
  },
  {
   "cell_type": "code",
   "execution_count": null,
   "metadata": {},
   "outputs": [],
   "source": [
    "import copy\n",
    "dir(copy)\n",
    "copy.__all__\n",
    "copy.__file__"
   ]
  },
  {
   "cell_type": "code",
   "execution_count": null,
   "metadata": {},
   "outputs": [],
   "source": []
  }
 ],
 "metadata": {
  "kernelspec": {
   "display_name": "Python 3",
   "language": "python",
   "name": "python3"
  },
  "language_info": {
   "codemirror_mode": {
    "name": "ipython",
    "version": 3
   },
   "file_extension": ".py",
   "mimetype": "text/x-python",
   "name": "python",
   "nbconvert_exporter": "python",
   "pygments_lexer": "ipython3",
   "version": "3.7.3"
  }
 },
 "nbformat": 4,
 "nbformat_minor": 2
}
