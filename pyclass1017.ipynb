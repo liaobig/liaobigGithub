{
 "cells": [
  {
   "cell_type": "code",
   "execution_count": 4,
   "metadata": {},
   "outputs": [
    {
     "name": "stdout",
     "output_type": "stream",
     "text": [
      "{'b': 1, 'a': 0}\n"
     ]
    }
   ],
   "source": [
    "d=dict()\n",
    "d[\"b\"]=1\n",
    "d.setdefault('a',0)\n",
    "d.setdefault('b',0)\n",
    "print(d)"
   ]
  },
  {
   "cell_type": "code",
   "execution_count": 31,
   "metadata": {},
   "outputs": [
    {
     "name": "stdout",
     "output_type": "stream",
     "text": [
      "['learning']\n"
     ]
    }
   ],
   "source": [
    "text='''Many of the studies reviewed concentrated on the means: replicating and supplementing existing teaching. Few considered the second aim, how. The ways in which academics conceptualise teaching and learning with technology have signiﬁcant and interrelated impacts upon their students’ experience of learning (Kirkwood and Price 2012). The potential of technology to transform teaching and learning practices does not appear to have achieved substantial uptake, as the majority of studies focused on reproducing or reinforcing existing practices. \n",
    "Transforming learning is a complex activity that frequently necessitates reconsideration by teachers of what constitutes ‘teaching’ and ‘learning’. It requires sophisticated reasoning about the goals of any intervention, the design of the evaluation and the interpretation of the results within the particular educational context. Further research needs to examine the relationship between these factors and their bearing on the potential of technology to transform the student learning experience.\n",
    "'''\n",
    "\n",
    "sep=\"\\t\\n\\'\\\",.()-\"\n",
    "for ch in sep:\n",
    "    text=text.replace(ch, \" \")\n",
    "\n",
    "    \n",
    "words=text.lower().split(\" \")\n",
    "try:\n",
    "    while True: \n",
    "        words.remove(\"\")\n",
    "except:\n",
    "    pass\n",
    "\n",
    "counts={}\n",
    "for word in words:\n",
    "    counts.setdefault(word,0)\n",
    "    counts[word]+=1\n",
    "\n",
    "wbc=dict()\n",
    "for word in counts.keys():\n",
    "    wbc.setdefault(counts[word],[])\n",
    "    wbc[counts[word]].append(word)\n",
    "print(wbc[5])\n",
    "    \n",
    "    "
   ]
  },
  {
   "cell_type": "code",
   "execution_count": 43,
   "metadata": {},
   "outputs": [
    {
     "name": "stdout",
     "output_type": "stream",
     "text": [
      "count 15 : ['the']\n",
      "count 9 : ['of']\n",
      "count 8 : ['and']\n",
      "count 5 : ['learning']\n",
      "count 4 : ['to']\n",
      "count 3 : ['on', 'teaching', 'technology']\n",
      "count 2 : ['studies', 'existing', 'have', 'their', 'experience', 'potential', 'transform', 'practices']\n",
      "count 1 : ['many', 'reviewed', 'concentrated', 'means:', 'replicating', 'supplementing', 'few', 'considered', 'second', 'aim', 'how', 'ways', 'in', 'which', 'academics', 'conceptualise', 'with', 'signiﬁcant', 'interrelated', 'impacts', 'upon', 'students’', 'kirkwood', 'price', '2012', 'does', 'not', 'appear', 'achieved', 'substantial', 'uptake', 'as', 'majority', 'focused', 'reproducing', 'or', 'reinforcing', 'transforming', 'is', 'a', 'complex', 'activity', 'that', 'frequently', 'necessitates', 'reconsideration', 'by', 'teachers', 'what', 'constitutes', '‘teaching’', '‘learning’', 'it', 'requires', 'sophisticated', 'reasoning', 'about', 'goals', 'any', 'intervention', 'design', 'evaluation', 'interpretation', 'results', 'within', 'particular', 'educational', 'context', 'further', 'research', 'needs', 'examine', 'relationship', 'between', 'these', 'factors', 'bearing', 'student']\n"
     ]
    }
   ],
   "source": [
    "#倒序\n",
    "ks=sorted(wbc.keys(),reverse=True)\n",
    "for k in ks:\n",
    "    print(\"count\",k,\":\",wbc[k])"
   ]
  },
  {
   "cell_type": "code",
   "execution_count": 50,
   "metadata": {},
   "outputs": [
    {
     "name": "stdout",
     "output_type": "stream",
     "text": [
      "[1, 2, 3, 4, 5, 8, 9, 15]\n",
      "[78, 8, 3, 1, 1, 1, 1, 1]\n"
     ]
    }
   ],
   "source": [
    "newc=[]\n",
    "occs=sorted(wbc.keys())\n",
    "print(sorted(wbc.keys()))\n",
    "for occ in occs:\n",
    "    newc.append(len(wbc[occ]))\n",
    "print(newc)"
   ]
  },
  {
   "cell_type": "code",
   "execution_count": 53,
   "metadata": {},
   "outputs": [
    {
     "data": {
      "text/plain": [
       "[<matplotlib.lines.Line2D at 0x1e80d78aac8>]"
      ]
     },
     "execution_count": 53,
     "metadata": {},
     "output_type": "execute_result"
    },
    {
     "data": {
      "image/png": "[encoded data removed]",
      "text/plain": [
       "<Figure size 432x288 with 1 Axes>"
      ]
     },
     "metadata": {
      "needs_background": "light"
     },
     "output_type": "display_data"
    }
   ],
   "source": [
    "import matplotlib.pyplot as plt\n",
    "plt.plot(occs,newc)"
   ]
  },
  {
   "cell_type": "code",
   "execution_count": 54,
   "metadata": {},
   "outputs": [
    {
     "name": "stdout",
     "output_type": "stream",
     "text": [
      "1 3 [2, 4]\n"
     ]
    }
   ],
   "source": [
    "#fun function\n",
    "#     *\n",
    "x,y,*r=1,3,2,4\n",
    "print(x,y,r)"
   ]
  },
  {
   "cell_type": "code",
   "execution_count": 56,
   "metadata": {},
   "outputs": [
    {
     "name": "stdout",
     "output_type": "stream",
     "text": [
      "1 4 [3, 2]\n"
     ]
    }
   ],
   "source": [
    "x,*r,y=1,3,2,4\n",
    "print(x,y,r)"
   ]
  },
  {
   "cell_type": "code",
   "execution_count": 58,
   "metadata": {},
   "outputs": [
    {
     "name": "stdout",
     "output_type": "stream",
     "text": [
      "3 3\n"
     ]
    }
   ],
   "source": [
    "x=y=3\n",
    "print(x,y)"
   ]
  },
  {
   "cell_type": "code",
   "execution_count": 59,
   "metadata": {},
   "outputs": [
    {
     "name": "stdout",
     "output_type": "stream",
     "text": [
      "2 3\n"
     ]
    }
   ],
   "source": [
    "x=2\n",
    "print(x,y)"
   ]
  },
  {
   "cell_type": "code",
   "execution_count": 60,
   "metadata": {},
   "outputs": [
    {
     "name": "stdout",
     "output_type": "stream",
     "text": [
      "[3, 3] [3, 3]\n"
     ]
    }
   ],
   "source": [
    "x=y=[2,3]\n",
    "x[0]=3\n",
    "print(x,y)"
   ]
  },
  {
   "cell_type": "code",
   "execution_count": 61,
   "metadata": {},
   "outputs": [
    {
     "data": {
      "text/plain": [
       "False"
      ]
     },
     "execution_count": 61,
     "metadata": {},
     "output_type": "execute_result"
    }
   ],
   "source": [
    "x=[1,2]\n",
    "y=[1,2]\n",
    "x is y"
   ]
  },
  {
   "cell_type": "code",
   "execution_count": 62,
   "metadata": {},
   "outputs": [
    {
     "data": {
      "text/plain": [
       "True"
      ]
     },
     "execution_count": 62,
     "metadata": {},
     "output_type": "execute_result"
    }
   ],
   "source": [
    "x==y"
   ]
  },
  {
   "cell_type": "code",
   "execution_count": 63,
   "metadata": {},
   "outputs": [
    {
     "data": {
      "text/plain": [
       "True"
      ]
     },
     "execution_count": 63,
     "metadata": {},
     "output_type": "execute_result"
    }
   ],
   "source": [
    "x=\"hi\"\n",
    "y=\"hi\"\n",
    "x is y"
   ]
  },
  {
   "cell_type": "code",
   "execution_count": 67,
   "metadata": {},
   "outputs": [
    {
     "name": "stdout",
     "output_type": "stream",
     "text": [
      "[1, 2, 3] [1, 2]\n",
      "False\n",
      "[1, 2, 3] [1, 2, 3]\n",
      "True\n"
     ]
    }
   ],
   "source": [
    "#+=和=+的区别\n",
    "a=[1,2]\n",
    "b=a\n",
    "a=a+[3]\n",
    "print(a,b)\n",
    "print(a is b)\n",
    "\n",
    "a=[1,2]\n",
    "b=a\n",
    "a+=[3]\n",
    "print(a,b)\n",
    "print(a is b)"
   ]
  },
  {
   "cell_type": "code",
   "execution_count": 68,
   "metadata": {},
   "outputs": [],
   "source": [
    "if a>b:\n",
    "    print(a)"
   ]
  },
  {
   "cell_type": "code",
   "execution_count": 70,
   "metadata": {},
   "outputs": [
    {
     "data": {
      "text/plain": [
       "1"
      ]
     },
     "execution_count": 70,
     "metadata": {},
     "output_type": "execute_result"
    }
   ],
   "source": [
    "int(True)+int(False)"
   ]
  },
  {
   "cell_type": "code",
   "execution_count": 71,
   "metadata": {},
   "outputs": [
    {
     "data": {
      "text/plain": [
       "True"
      ]
     },
     "execution_count": 71,
     "metadata": {},
     "output_type": "execute_result"
    }
   ],
   "source": [
    "bool(3)"
   ]
  },
  {
   "cell_type": "code",
   "execution_count": 72,
   "metadata": {},
   "outputs": [
    {
     "data": {
      "text/plain": [
       "False"
      ]
     },
     "execution_count": 72,
     "metadata": {},
     "output_type": "execute_result"
    }
   ],
   "source": [
    "bool(())"
   ]
  },
  {
   "cell_type": "code",
   "execution_count": 79,
   "metadata": {},
   "outputs": [
    {
     "name": "stdout",
     "output_type": "stream",
     "text": [
      "input year2000\n",
      "leap year\n"
     ]
    }
   ],
   "source": [
    "year=int(input(\"input year:\"))\n",
    "if year % 400==0:\n",
    "    print(\"leap year\")\n",
    "elif year % 100==0:\n",
    "    print(\"not leap year\")\n",
    "elif year % 4==0:\n",
    "    print(\"leap year\")\n",
    "else:\n",
    "    print(\"not leap year\")\n",
    "    "
   ]
  },
  {
   "cell_type": "code",
   "execution_count": 1,
   "metadata": {},
   "outputs": [
    {
     "name": "stdout",
     "output_type": "stream",
     "text": [
      "test ok\n",
      "input year:2000\n",
      "leap\n"
     ]
    }
   ],
   "source": [
    "def leapy(year):\n",
    "    assert (year>=0)\n",
    "    if year % 400==0:\n",
    "        return True\n",
    "    elif year % 100==0:\n",
    "        return False\n",
    "    elif year % 4==0:\n",
    "        return True\n",
    "    else:\n",
    "        return False\n",
    "\n",
    "#添加小测试\n",
    "assert(leapy(2000)==True)\n",
    "assert(leapy(1980))\n",
    "assert(not leapy(1000))\n",
    "print(\"test ok\")\n",
    "\n",
    "year=int(input(\"input year:\"))\n",
    "if year<0:\n",
    "    print(\"invalid year\")\n",
    "if leapy(year):\n",
    "    print(\"leap\")\n",
    "else:\n",
    "    print(\"not\")"
   ]
  },
  {
   "cell_type": "code",
   "execution_count": 2,
   "metadata": {},
   "outputs": [
    {
     "data": {
      "text/plain": [
       "'🙈'"
      ]
     },
     "execution_count": 2,
     "metadata": {},
     "output_type": "execute_result"
    }
   ],
   "source": [
    "chr(128584)"
   ]
  },
  {
   "cell_type": "code",
   "execution_count": 10,
   "metadata": {},
   "outputs": [
    {
     "name": "stdout",
     "output_type": "stream",
     "text": [
      "\b                                                           *"
     ]
    }
   ],
   "source": [
    "import math\n",
    "x=1\n",
    "while x<60:\n",
    "    print(\"\\b *\",end=\"\")\n",
    "    \n",
    "    #拖时间：\n",
    "    y=0\n",
    "    while y<50000:\n",
    "        z=math.sin(x)*math.exp(x)\n",
    "        y+=1\n",
    "    x+=1"
   ]
  },
  {
   "cell_type": "code",
   "execution_count": 5,
   "metadata": {},
   "outputs": [
    {
     "name": "stdout",
     "output_type": "stream",
     "text": [
      "#                                                *\r"
     ]
    }
   ],
   "source": [
    "def wait():\n",
    "    y=0\n",
    "    while y<50000:\n",
    "        z=math.sin(x)*math.exp(x)\n",
    "        y+=1\n",
    "import time\n",
    "\n",
    "length=50\n",
    "bar=list()\n",
    "for i in range(0,length):\n",
    "    bar+=\" \"\n",
    "\n",
    "x=0\n",
    "y=length-1\n",
    "\n",
    "for i in range(0,length):\n",
    "    bar[x]='*'\n",
    "    bar[y]='#'\n",
    "    for ch in bar:\n",
    "        print(ch,sep=\"\",end=\"\")\n",
    "    time.sleep(0.3)   \n",
    "    bar[x]=\" \"\n",
    "    bar[y]=\" \"\n",
    "    x+=1\n",
    "    y-=1\n",
    "    print(\"\\r\",end=\"\")"
   ]
  },
  {
   "cell_type": "code",
   "execution_count": null,
   "metadata": {},
   "outputs": [],
   "source": []
  },
  {
   "cell_type": "code",
   "execution_count": 3,
   "metadata": {},
   "outputs": [
    {
     "name": "stdout",
     "output_type": "stream",
     "text": [
      "9876543210"
     ]
    }
   ],
   "source": [
    "for ch in range(0,10):\n",
    "        print(ch,sep='',end='')\n",
    "print(\"\\r\",end=\"\")\n",
    "import time\n",
    "time.sleep(1)\n",
    "for ch in range(9,-1,-1):\n",
    "        print(ch,sep='',end='')"
   ]
  },
  {
   "cell_type": "code",
   "execution_count": null,
   "metadata": {},
   "outputs": [],
   "source": []
  }
 ],
 "metadata": {
  "kernelspec": {
   "display_name": "Python 3",
   "language": "python",
   "name": "python3"
  },
  "language_info": {
   "codemirror_mode": {
    "name": "ipython",
    "version": 3
   },
   "file_extension": ".py",
   "mimetype": "text/x-python",
   "name": "python",
   "nbconvert_exporter": "python",
   "pygments_lexer": "ipython3",
   "version": "3.7.3"
  }
 },
 "nbformat": 4,
 "nbformat_minor": 2
}
